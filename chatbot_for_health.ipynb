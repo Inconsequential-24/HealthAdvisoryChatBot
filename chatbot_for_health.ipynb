{
  "nbformat": 4,
  "nbformat_minor": 0,
  "metadata": {
    "colab": {
      "provenance": [],
      "authorship_tag": "ABX9TyM3yiQiF1bwhaCDPGT9WBB5"
    },
    "kernelspec": {
      "name": "python3",
      "display_name": "Python 3"
    },
    "language_info": {
      "name": "python"
    }
  },
  "cells": [
    {
      "cell_type": "code",
      "execution_count": 1,
      "metadata": {
        "colab": {
          "base_uri": "https://localhost:8080/"
        },
        "id": "wdKnEDA2OTn4",
        "outputId": "a6d31683-8581-47e7-aa70-d4c607812e90"
      },
      "outputs": [
        {
          "output_type": "stream",
          "name": "stdout",
          "text": [
            "Requirement already satisfied: nltk in /usr/local/lib/python3.10/dist-packages (3.8.1)\n",
            "Requirement already satisfied: click in /usr/local/lib/python3.10/dist-packages (from nltk) (8.1.7)\n",
            "Requirement already satisfied: joblib in /usr/local/lib/python3.10/dist-packages (from nltk) (1.3.2)\n",
            "Requirement already satisfied: regex>=2021.8.3 in /usr/local/lib/python3.10/dist-packages (from nltk) (2023.6.3)\n",
            "Requirement already satisfied: tqdm in /usr/local/lib/python3.10/dist-packages (from nltk) (4.66.1)\n",
            "Requirement already satisfied: tensorflow in /usr/local/lib/python3.10/dist-packages (2.15.0)\n",
            "Requirement already satisfied: absl-py>=1.0.0 in /usr/local/lib/python3.10/dist-packages (from tensorflow) (1.4.0)\n",
            "Requirement already satisfied: astunparse>=1.6.0 in /usr/local/lib/python3.10/dist-packages (from tensorflow) (1.6.3)\n",
            "Requirement already satisfied: flatbuffers>=23.5.26 in /usr/local/lib/python3.10/dist-packages (from tensorflow) (23.5.26)\n",
            "Requirement already satisfied: gast!=0.5.0,!=0.5.1,!=0.5.2,>=0.2.1 in /usr/local/lib/python3.10/dist-packages (from tensorflow) (0.5.4)\n",
            "Requirement already satisfied: google-pasta>=0.1.1 in /usr/local/lib/python3.10/dist-packages (from tensorflow) (0.2.0)\n",
            "Requirement already satisfied: h5py>=2.9.0 in /usr/local/lib/python3.10/dist-packages (from tensorflow) (3.9.0)\n",
            "Requirement already satisfied: libclang>=13.0.0 in /usr/local/lib/python3.10/dist-packages (from tensorflow) (16.0.6)\n",
            "Requirement already satisfied: ml-dtypes~=0.2.0 in /usr/local/lib/python3.10/dist-packages (from tensorflow) (0.2.0)\n",
            "Requirement already satisfied: numpy<2.0.0,>=1.23.5 in /usr/local/lib/python3.10/dist-packages (from tensorflow) (1.23.5)\n",
            "Requirement already satisfied: opt-einsum>=2.3.2 in /usr/local/lib/python3.10/dist-packages (from tensorflow) (3.3.0)\n",
            "Requirement already satisfied: packaging in /usr/local/lib/python3.10/dist-packages (from tensorflow) (23.2)\n",
            "Requirement already satisfied: protobuf!=4.21.0,!=4.21.1,!=4.21.2,!=4.21.3,!=4.21.4,!=4.21.5,<5.0.0dev,>=3.20.3 in /usr/local/lib/python3.10/dist-packages (from tensorflow) (3.20.3)\n",
            "Requirement already satisfied: setuptools in /usr/local/lib/python3.10/dist-packages (from tensorflow) (67.7.2)\n",
            "Requirement already satisfied: six>=1.12.0 in /usr/local/lib/python3.10/dist-packages (from tensorflow) (1.16.0)\n",
            "Requirement already satisfied: termcolor>=1.1.0 in /usr/local/lib/python3.10/dist-packages (from tensorflow) (2.4.0)\n",
            "Requirement already satisfied: typing-extensions>=3.6.6 in /usr/local/lib/python3.10/dist-packages (from tensorflow) (4.5.0)\n",
            "Requirement already satisfied: wrapt<1.15,>=1.11.0 in /usr/local/lib/python3.10/dist-packages (from tensorflow) (1.14.1)\n",
            "Requirement already satisfied: tensorflow-io-gcs-filesystem>=0.23.1 in /usr/local/lib/python3.10/dist-packages (from tensorflow) (0.35.0)\n",
            "Requirement already satisfied: grpcio<2.0,>=1.24.3 in /usr/local/lib/python3.10/dist-packages (from tensorflow) (1.60.0)\n",
            "Requirement already satisfied: tensorboard<2.16,>=2.15 in /usr/local/lib/python3.10/dist-packages (from tensorflow) (2.15.1)\n",
            "Requirement already satisfied: tensorflow-estimator<2.16,>=2.15.0 in /usr/local/lib/python3.10/dist-packages (from tensorflow) (2.15.0)\n",
            "Requirement already satisfied: keras<2.16,>=2.15.0 in /usr/local/lib/python3.10/dist-packages (from tensorflow) (2.15.0)\n",
            "Requirement already satisfied: wheel<1.0,>=0.23.0 in /usr/local/lib/python3.10/dist-packages (from astunparse>=1.6.0->tensorflow) (0.42.0)\n",
            "Requirement already satisfied: google-auth<3,>=1.6.3 in /usr/local/lib/python3.10/dist-packages (from tensorboard<2.16,>=2.15->tensorflow) (2.17.3)\n",
            "Requirement already satisfied: google-auth-oauthlib<2,>=0.5 in /usr/local/lib/python3.10/dist-packages (from tensorboard<2.16,>=2.15->tensorflow) (1.2.0)\n",
            "Requirement already satisfied: markdown>=2.6.8 in /usr/local/lib/python3.10/dist-packages (from tensorboard<2.16,>=2.15->tensorflow) (3.5.1)\n",
            "Requirement already satisfied: requests<3,>=2.21.0 in /usr/local/lib/python3.10/dist-packages (from tensorboard<2.16,>=2.15->tensorflow) (2.31.0)\n",
            "Requirement already satisfied: tensorboard-data-server<0.8.0,>=0.7.0 in /usr/local/lib/python3.10/dist-packages (from tensorboard<2.16,>=2.15->tensorflow) (0.7.2)\n",
            "Requirement already satisfied: werkzeug>=1.0.1 in /usr/local/lib/python3.10/dist-packages (from tensorboard<2.16,>=2.15->tensorflow) (3.0.1)\n",
            "Requirement already satisfied: cachetools<6.0,>=2.0.0 in /usr/local/lib/python3.10/dist-packages (from google-auth<3,>=1.6.3->tensorboard<2.16,>=2.15->tensorflow) (5.3.2)\n",
            "Requirement already satisfied: pyasn1-modules>=0.2.1 in /usr/local/lib/python3.10/dist-packages (from google-auth<3,>=1.6.3->tensorboard<2.16,>=2.15->tensorflow) (0.3.0)\n",
            "Requirement already satisfied: rsa<5,>=3.1.4 in /usr/local/lib/python3.10/dist-packages (from google-auth<3,>=1.6.3->tensorboard<2.16,>=2.15->tensorflow) (4.9)\n",
            "Requirement already satisfied: requests-oauthlib>=0.7.0 in /usr/local/lib/python3.10/dist-packages (from google-auth-oauthlib<2,>=0.5->tensorboard<2.16,>=2.15->tensorflow) (1.3.1)\n",
            "Requirement already satisfied: charset-normalizer<4,>=2 in /usr/local/lib/python3.10/dist-packages (from requests<3,>=2.21.0->tensorboard<2.16,>=2.15->tensorflow) (3.3.2)\n",
            "Requirement already satisfied: idna<4,>=2.5 in /usr/local/lib/python3.10/dist-packages (from requests<3,>=2.21.0->tensorboard<2.16,>=2.15->tensorflow) (3.6)\n",
            "Requirement already satisfied: urllib3<3,>=1.21.1 in /usr/local/lib/python3.10/dist-packages (from requests<3,>=2.21.0->tensorboard<2.16,>=2.15->tensorflow) (2.0.7)\n",
            "Requirement already satisfied: certifi>=2017.4.17 in /usr/local/lib/python3.10/dist-packages (from requests<3,>=2.21.0->tensorboard<2.16,>=2.15->tensorflow) (2023.11.17)\n",
            "Requirement already satisfied: MarkupSafe>=2.1.1 in /usr/local/lib/python3.10/dist-packages (from werkzeug>=1.0.1->tensorboard<2.16,>=2.15->tensorflow) (2.1.3)\n",
            "Requirement already satisfied: pyasn1<0.6.0,>=0.4.6 in /usr/local/lib/python3.10/dist-packages (from pyasn1-modules>=0.2.1->google-auth<3,>=1.6.3->tensorboard<2.16,>=2.15->tensorflow) (0.5.1)\n",
            "Requirement already satisfied: oauthlib>=3.0.0 in /usr/local/lib/python3.10/dist-packages (from requests-oauthlib>=0.7.0->google-auth-oauthlib<2,>=0.5->tensorboard<2.16,>=2.15->tensorflow) (3.2.2)\n"
          ]
        }
      ],
      "source": [
        "!pip install nltk\n",
        "!pip install tensorflow"
      ]
    },
    {
      "cell_type": "code",
      "source": [
        "import nltk\n",
        "from nltk.chat.util import Chat, reflections\n",
        "import tensorflow as tf\n",
        "from tensorflow.keras.preprocessing.text import Tokenizer\n",
        "from tensorflow.keras.preprocessing.sequence import pad_sequences"
      ],
      "metadata": {
        "id": "JokO8ybTOxVu"
      },
      "execution_count": 3,
      "outputs": []
    },
    {
      "cell_type": "code",
      "source": [
        "nltk.download('punkt')\n",
        "\n",
        "# Define patterns and responses for the NLTK chatbot\n",
        "pairs = [\n",
        "    [\"hi|hello|hey\", [\"Hello!\", \"Hi there!\", \"How can I help you today?\"]],\n",
        "    [\"how are you\", [\"I'm good, thanks. How about you?\", \"I'm a chatbot, I don't have feelings, but thanks for asking!\"]],\n",
        "    [\"what is your name\", [\"You can call me ChatGPT.\", \"I'm a chatbot, no specific name.\"]],\n",
        "    [\"quit|exit\", [\"Goodbye!\", \"It was nice chatting with you. Have a great day!\"]],\n",
        "]\n",
        "\n",
        "# Create the NLTK chatbot\n",
        "chatbot = Chat(pairs, reflections)\n"
      ],
      "metadata": {
        "colab": {
          "base_uri": "https://localhost:8080/"
        },
        "id": "Qjd9EH2PO1lE",
        "outputId": "2f74f52f-ef6e-44cd-b366-ffa31daa592e"
      },
      "execution_count": 4,
      "outputs": [
        {
          "output_type": "stream",
          "name": "stderr",
          "text": [
            "[nltk_data] Downloading package punkt to /root/nltk_data...\n",
            "[nltk_data]   Unzipping tokenizers/punkt.zip.\n"
          ]
        }
      ]
    },
    {
      "cell_type": "code",
      "source": [
        "import requests\n",
        "\n",
        "# Replace 'your_actual_app_id' and 'your_actual_app_key' with your Edamam API credentials\n",
        "EDAMAM_APP_ID = 'f6d73819'\n",
        "EDAMAM_APP_KEY = '188c7ee822658b7f095a211b78634c75'\n",
        "\n",
        "\n",
        "\n",
        "def get_nutritional_analysis(food_text):\n",
        "    # Construct the API URL\n",
        "    api_url = f'https://api.edamam.com/api/nutrition-data?app_id={EDAMAM_APP_ID}&app_key={EDAMAM_APP_KEY}&ingr={food_text}'\n",
        "\n",
        "    # Make the API request\n",
        "    response = requests.get(api_url)\n",
        "\n",
        "    # Handle the API response\n",
        "    if response.status_code == 200:\n",
        "        data = response.json()\n",
        "        return data\n",
        "    else:\n",
        "        print(f\"Error: {response.status_code} - {response.text}\")\n",
        "        return None\n",
        "\n",
        "def is_food_healthy(nutritional_data):\n",
        "    # Check if the food has any health labels indicating it is healthy\n",
        "    health_labels = nutritional_data.get('healthLabels', [])\n",
        "    return any(label.lower() in {'balanced', 'high-fiber', 'high-protein', 'low-carb', 'low-fat'} for label in health_labels)\n",
        "\n",
        "def get_healthy_alternative(food_input):\n",
        "    # Check if there's a predefined healthy alternative\n",
        "    alternative = HEALTHY_ALTERNATIVES.get(food_input.lower())\n",
        "    if alternative:\n",
        "        return alternative\n",
        "    else:\n",
        "        # Query the Edamam API for alternative suggestions\n",
        "        api_url = f'https://api.edamam.com/api/food-database/v2/parser?app_id={EDAMAM_APP_ID}&app_key={EDAMAM_APP_KEY}&ingr={food_input}'\n",
        "        response = requests.get(api_url)\n",
        "        if response.status_code == 200:\n",
        "            data = response.json()\n",
        "            if data.get('hints'):\n",
        "                return data['hints'][0]['food']['label']\n",
        "        return None\n",
        "\n",
        "while True:\n",
        "    # Take user input for the food item\n",
        "    food_input = input(\"Enter the name of the food (type 'quit' to exit): \")\n",
        "\n",
        "    if food_input.lower() == 'quit':\n",
        "        print(\"Exiting the program. Goodbye!\")\n",
        "        break\n",
        "\n",
        "    # Get nutritional analysis for the user-input food\n",
        "    nutritional_data = get_nutritional_analysis(food_input)\n",
        "\n",
        "    if nutritional_data:\n",
        "        # Extract relevant information from the 'nutritional_data' variable\n",
        "        print(f\"\\nNutritional Analysis for {food_input.capitalize()}:\")\n",
        "        calories_data = nutritional_data.get('calories', {})\n",
        "        if isinstance(calories_data, dict):\n",
        "            print(f\"Calories: {calories_data.get('quantity')} {calories_data.get('unit')}\")\n",
        "        else:\n",
        "            print(f\"Calories: {calories_data} kcal\")  # Handle the case when 'calories' is an integer\n",
        "\n",
        "        print(\"Nutrients:\")\n",
        "        for nutrient in nutritional_data.get('totalNutrients', []):\n",
        "            print(f\"  {nutrient['label']}: {nutrient['quantity']} {nutrient['unit']}\")\n",
        "\n",
        "        # Check if the food is considered healthy\n",
        "        if is_food_healthy(nutritional_data):\n",
        "            print(\"\\nThis food is considered healthy!\")\n",
        "        else:\n",
        "            print(\"\\nThis food may not be considered very healthy.\")\n",
        "            # Suggest a healthy alternative\n",
        "            alternative = get_healthy_alternative(food_input)\n",
        "            if alternative:\n",
        "                print(f\"Consider trying: {alternative.capitalize()} instead.\")\n",
        "            else:\n",
        "                print(\"Unfortunately, we don't have a specific suggestion for a healthier alternative.\")\n",
        "\n",
        "        print(\"\\nHealth Labels:\", nutritional_data.get('healthLabels', []))\n",
        "        print(\"Diet Labels:\", nutritional_data.get('dietLabels', []))\n",
        "    else:\n",
        "        print(f\"Could not retrieve nutritional analysis for {food_input}. Please try again.\")\n"
      ],
      "metadata": {
        "colab": {
          "base_uri": "https://localhost:8080/"
        },
        "id": "Op-BO2n8OrAd",
        "outputId": "35f9a75b-0fe2-4e7a-842a-00d5d2a2de2e"
      },
      "execution_count": 10,
      "outputs": [
        {
          "output_type": "stream",
          "name": "stdout",
          "text": [
            "Enter the name of the food (type 'quit' to exit): pizza\n",
            "\n",
            "Nutritional Analysis for Pizza:\n",
            "Calories: 0 kcal\n",
            "Nutrients:\n",
            "\n",
            "This food may not be considered very healthy.\n",
            "Consider trying: Grilled chicken salad instead.\n",
            "\n",
            "Health Labels: ['VEGETARIAN', 'PESCATARIAN', 'EGG_FREE', 'PEANUT_FREE', 'TREE_NUT_FREE', 'SOY_FREE', 'FISH_FREE', 'SHELLFISH_FREE', 'PORK_FREE', 'RED_MEAT_FREE', 'CRUSTACEAN_FREE', 'CELERY_FREE', 'MUSTARD_FREE', 'SESAME_FREE', 'LUPINE_FREE', 'MOLLUSK_FREE', 'ALCOHOL_FREE', 'NO_SUGAR_ADDED', 'KOSHER']\n",
            "Diet Labels: []\n",
            "Enter the name of the food (type 'quit' to exit): roti\n",
            "\n",
            "Nutritional Analysis for Roti:\n",
            "Calories: 0 kcal\n",
            "Nutrients:\n",
            "\n",
            "This food may not be considered very healthy.\n",
            "Unfortunately, we don't have a specific suggestion for a healthier alternative.\n",
            "\n",
            "Health Labels: ['VEGAN', 'VEGETARIAN', 'PESCATARIAN', 'MEDITERRANEAN', 'DAIRY_FREE', 'EGG_FREE', 'MILK_FREE', 'PEANUT_FREE', 'TREE_NUT_FREE', 'SOY_FREE', 'FISH_FREE', 'SHELLFISH_FREE', 'PORK_FREE', 'RED_MEAT_FREE', 'CRUSTACEAN_FREE', 'CELERY_FREE', 'MUSTARD_FREE', 'SESAME_FREE', 'LUPINE_FREE', 'MOLLUSK_FREE', 'ALCOHOL_FREE', 'NO_SUGAR_ADDED', 'SULPHITE_FREE', 'KOSHER']\n",
            "Diet Labels: []\n",
            "Enter the name of the food (type 'quit' to exit): milk\n",
            "\n",
            "Nutritional Analysis for Milk:\n",
            "Calories: 0 kcal\n",
            "Nutrients:\n",
            "\n",
            "This food may not be considered very healthy.\n",
            "Unfortunately, we don't have a specific suggestion for a healthier alternative.\n",
            "\n",
            "Health Labels: ['VEGETARIAN', 'PESCATARIAN', 'MEDITERRANEAN', 'GLUTEN_FREE', 'WHEAT_FREE', 'EGG_FREE', 'PEANUT_FREE', 'TREE_NUT_FREE', 'SOY_FREE', 'FISH_FREE', 'SHELLFISH_FREE', 'PORK_FREE', 'RED_MEAT_FREE', 'CRUSTACEAN_FREE', 'CELERY_FREE', 'MUSTARD_FREE', 'SESAME_FREE', 'LUPINE_FREE', 'MOLLUSK_FREE', 'ALCOHOL_FREE', 'NO_OIL_ADDED', 'NO_SUGAR_ADDED', 'SULPHITE_FREE', 'KOSHER']\n",
            "Diet Labels: []\n",
            "Enter the name of the food (type 'quit' to exit): quit\n",
            "Exiting the program. Goodbye!\n"
          ]
        }
      ]
    }
  ]
}